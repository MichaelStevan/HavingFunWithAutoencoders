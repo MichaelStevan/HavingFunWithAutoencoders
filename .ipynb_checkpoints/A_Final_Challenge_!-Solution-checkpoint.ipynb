{
 "cells": [
  {
   "cell_type": "markdown",
   "metadata": {},
   "source": [
    "## A final Challenge: Build an Autoencoder. (Solution)"
   ]
  },
  {
   "cell_type": "markdown",
   "metadata": {},
   "source": [
    "You're going to use all the knowledge adquired during the course to complete a final feat: **Building your own MNIST Autoencoder**.\n",
    "\n",
    "This is not an easy challenge !\n",
    "To achieve it, we will take advantage of the **Keras functional API**.\n",
    "\n",
    "But, what's is an autoencoder?, you may ask.\n",
    "\n",
    "An autoencoder is a neural network architecture that will try to produce an output which matches its input as closely as possible.\n",
    "\n",
    "This objective, along with a series of layer/s of diminishing number of nodes leads to the original input being compressed into a lower dimentional space (encoded), and them decoded back to its original shape.\n",
    "\n",
    "So we will approach this problem by building two models:\n",
    "\n",
    "- An encoder model which encodes our 784 pixel MNIST images. \n",
    "\n",
    "- A decoder model that takes the encoded output of the previous encoder as an input and transforms it back to its original digit form.\n"
   ]
  },
  {
   "cell_type": "markdown",
   "metadata": {},
   "source": [
    "#### Section 1:"
   ]
  },
  {
   "cell_type": "code",
   "execution_count": 1,
   "metadata": {},
   "outputs": [
    {
     "name": "stderr",
     "output_type": "stream",
     "text": [
      "Using TensorFlow backend.\n"
     ]
    },
    {
     "name": "stdout",
     "output_type": "stream",
     "text": [
      "_________________________________________________________________\n",
      "Layer (type)                 Output Shape              Param #   \n",
      "=================================================================\n",
      "input_1 (InputLayer)         (None, 784)               0         \n",
      "_________________________________________________________________\n",
      "dense_1 (Dense)              (None, 32)                25120     \n",
      "_________________________________________________________________\n",
      "dense_2 (Dense)              (None, 784)               25872     \n",
      "=================================================================\n",
      "Total params: 50,992\n",
      "Trainable params: 50,992\n",
      "Non-trainable params: 0\n",
      "_________________________________________________________________\n"
     ]
    }
   ],
   "source": [
    "from keras.layers import Input, Dense\n",
    "from keras.models import Model\n",
    "\n",
    "# Define an input for a flattened 784 pixels \n",
    "# value (from our MNIST images)\n",
    "input_img = Input(shape=(784,))\n",
    "\n",
    "# The size of the encoded representations of our numbers\n",
    "# will be 32, that is 24.5 times smaller than the original images!\n",
    "encoding_dim = 32\n",
    "\n",
    "# Define encoded as a Dense layer that will learn the encoded representation of our digits.\n",
    "# The number of nodes is encoding_dim and it receives the input_img as an input. \n",
    "encoded = Dense(encoding_dim,activation='relu')(input_img)\n",
    "\n",
    "# Define decoded as a Dense layer of nodes of size the original number of pixels.\n",
    "# This layer will learn to transform our digits from their encoded representation back\n",
    "# to their original size.\n",
    "decoded = Dense(784,activation='sigmoid')(encoded)\n",
    "\n",
    "# Define a model that maps our original image input to \n",
    "# its encoded representation\n",
    "encoder = Model(input_img,encoded)\n",
    "\n",
    "# The autoencoder model will map our input to it's reconstruction (decoded state).\n",
    "autoencoder = Model(input_img,decoded)\n",
    "\n",
    "# We compile our autoencoder with an adadelta optimizer and binary_crossentropy loss,\n",
    "# since we are making predictions per pixel.\n",
    "autoencoder.compile(optimizer='adadelta',loss='binary_crossentropy')\n",
    "\n",
    "# Take a look at our autoencoder model structure.\n",
    "autoencoder.summary()"
   ]
  },
  {
   "cell_type": "code",
   "execution_count": 2,
   "metadata": {},
   "outputs": [],
   "source": [
    "##################################################\n",
    "# Student wouldn't see this code which prepares the MNIST dataset\n",
    "# to be used by the previously built models.\n",
    "\n",
    "from keras.datasets import mnist\n",
    "import numpy as np\n",
    "\n",
    "(X_train,_),(X_test,_) = mnist.load_data()\n",
    "\n",
    "# Normalize and reshape MNIST so that it can be used by our models.\n",
    "X_train = X_train.astype('float32')/255.\n",
    "X_test = X_test.astype('float32')/255.\n",
    "X_train =  X_train.reshape((len(X_train),np.prod(X_train.shape[1:])))\n",
    "X_test =  X_test.reshape((len(X_test),np.prod(X_test.shape[1:])))\n",
    "\n",
    "##################################################"
   ]
  },
  {
   "cell_type": "markdown",
   "metadata": {},
   "source": [
    "#### Section 2:"
   ]
  },
  {
   "cell_type": "code",
   "execution_count": 3,
   "metadata": {},
   "outputs": [
    {
     "name": "stdout",
     "output_type": "stream",
     "text": [
      "Train on 60000 samples, validate on 10000 samples\n",
      "Epoch 1/50\n",
      "60000/60000 [==============================] - 5s 88us/step - loss: 0.3655 - val_loss: 0.2715\n",
      "Epoch 2/50\n",
      "60000/60000 [==============================] - 4s 70us/step - loss: 0.2648 - val_loss: 0.2545\n",
      "Epoch 3/50\n",
      "60000/60000 [==============================] - 4s 63us/step - loss: 0.2446 - val_loss: 0.2325\n",
      "Epoch 4/50\n",
      "60000/60000 [==============================] - 4s 70us/step - loss: 0.2248 - val_loss: 0.2147\n",
      "Epoch 5/50\n",
      "60000/60000 [==============================] - 5s 79us/step - loss: 0.2096 - val_loss: 0.2016\n",
      "Epoch 6/50\n",
      "60000/60000 [==============================] - 4s 70us/step - loss: 0.1979 - val_loss: 0.1915\n",
      "Epoch 7/50\n",
      "60000/60000 [==============================] - 4s 71us/step - loss: 0.1890 - val_loss: 0.1837\n",
      "Epoch 8/50\n",
      "60000/60000 [==============================] - 4s 67us/step - loss: 0.1819 - val_loss: 0.1774\n",
      "Epoch 9/50\n",
      "60000/60000 [==============================] - 4s 67us/step - loss: 0.1761 - val_loss: 0.1720\n",
      "Epoch 10/50\n",
      "60000/60000 [==============================] - 4s 73us/step - loss: 0.1711 - val_loss: 0.1673\n",
      "Epoch 11/50\n",
      "60000/60000 [==============================] - 4s 73us/step - loss: 0.1665 - val_loss: 0.1629\n",
      "Epoch 12/50\n",
      "60000/60000 [==============================] - 4s 69us/step - loss: 0.1622 - val_loss: 0.1587\n",
      "Epoch 13/50\n",
      "60000/60000 [==============================] - 4s 75us/step - loss: 0.1582 - val_loss: 0.1548\n",
      "Epoch 14/50\n",
      "60000/60000 [==============================] - 4s 71us/step - loss: 0.1544 - val_loss: 0.1510\n",
      "Epoch 15/50\n",
      "60000/60000 [==============================] - 4s 68us/step - loss: 0.1508 - val_loss: 0.1476\n",
      "Epoch 16/50\n",
      "60000/60000 [==============================] - 4s 73us/step - loss: 0.1476 - val_loss: 0.1444\n",
      "Epoch 17/50\n",
      "60000/60000 [==============================] - 4s 68us/step - loss: 0.1447 - val_loss: 0.1416\n",
      "Epoch 18/50\n",
      "60000/60000 [==============================] - 4s 67us/step - loss: 0.1420 - val_loss: 0.1390\n",
      "Epoch 19/50\n",
      "60000/60000 [==============================] - 4s 68us/step - loss: 0.1395 - val_loss: 0.1367\n",
      "Epoch 20/50\n",
      "60000/60000 [==============================] - 4s 67us/step - loss: 0.1372 - val_loss: 0.1344\n",
      "Epoch 21/50\n",
      "60000/60000 [==============================] - 4s 71us/step - loss: 0.1351 - val_loss: 0.1323\n",
      "Epoch 22/50\n",
      "60000/60000 [==============================] - 5s 78us/step - loss: 0.1330 - val_loss: 0.1303\n",
      "Epoch 23/50\n",
      "60000/60000 [==============================] - 5s 77us/step - loss: 0.1311 - val_loss: 0.1283\n",
      "Epoch 24/50\n",
      "60000/60000 [==============================] - 4s 69us/step - loss: 0.1292 - val_loss: 0.1265\n",
      "Epoch 25/50\n",
      "60000/60000 [==============================] - 4s 72us/step - loss: 0.1274 - val_loss: 0.1249\n",
      "Epoch 26/50\n",
      "60000/60000 [==============================] - 4s 65us/step - loss: 0.1256 - val_loss: 0.1230\n",
      "Epoch 27/50\n",
      "60000/60000 [==============================] - 4s 64us/step - loss: 0.1239 - val_loss: 0.1214\n",
      "Epoch 28/50\n",
      "60000/60000 [==============================] - 4s 65us/step - loss: 0.1224 - val_loss: 0.1199\n",
      "Epoch 29/50\n",
      "60000/60000 [==============================] - 4s 64us/step - loss: 0.1209 - val_loss: 0.1184\n",
      "Epoch 30/50\n",
      "60000/60000 [==============================] - 4s 65us/step - loss: 0.1195 - val_loss: 0.1171\n",
      "Epoch 31/50\n",
      "60000/60000 [==============================] - 4s 66us/step - loss: 0.1182 - val_loss: 0.1158\n",
      "Epoch 32/50\n",
      "60000/60000 [==============================] - 4s 64us/step - loss: 0.1169 - val_loss: 0.1146\n",
      "Epoch 33/50\n",
      "60000/60000 [==============================] - 4s 67us/step - loss: 0.1158 - val_loss: 0.1135\n",
      "Epoch 34/50\n",
      "60000/60000 [==============================] - 4s 65us/step - loss: 0.1148 - val_loss: 0.1126\n",
      "Epoch 35/50\n",
      "60000/60000 [==============================] - 4s 67us/step - loss: 0.1138 - val_loss: 0.1116\n",
      "Epoch 36/50\n",
      "60000/60000 [==============================] - 4s 66us/step - loss: 0.1129 - val_loss: 0.1108\n",
      "Epoch 37/50\n",
      "60000/60000 [==============================] - 4s 69us/step - loss: 0.1121 - val_loss: 0.1100\n",
      "Epoch 38/50\n",
      "60000/60000 [==============================] - 4s 72us/step - loss: 0.1113 - val_loss: 0.1093\n",
      "Epoch 39/50\n",
      "60000/60000 [==============================] - 5s 75us/step - loss: 0.1106 - val_loss: 0.1086\n",
      "Epoch 40/50\n",
      "60000/60000 [==============================] - 4s 69us/step - loss: 0.1099 - val_loss: 0.1079\n",
      "Epoch 41/50\n",
      "60000/60000 [==============================] - 4s 69us/step - loss: 0.1093 - val_loss: 0.1073\n",
      "Epoch 42/50\n",
      "60000/60000 [==============================] - 4s 71us/step - loss: 0.1087 - val_loss: 0.1067\n",
      "Epoch 43/50\n",
      "60000/60000 [==============================] - 4s 69us/step - loss: 0.1081 - val_loss: 0.1062\n",
      "Epoch 44/50\n",
      "60000/60000 [==============================] - 4s 65us/step - loss: 0.1076 - val_loss: 0.1057\n",
      "Epoch 45/50\n",
      "60000/60000 [==============================] - 4s 66us/step - loss: 0.1071 - val_loss: 0.1052\n",
      "Epoch 46/50\n",
      "60000/60000 [==============================] - 4s 65us/step - loss: 0.1066 - val_loss: 0.1047\n",
      "Epoch 47/50\n",
      "60000/60000 [==============================] - 4s 68us/step - loss: 0.1062 - val_loss: 0.1043\n",
      "Epoch 48/50\n",
      "60000/60000 [==============================] - 4s 67us/step - loss: 0.1057 - val_loss: 0.1039\n",
      "Epoch 49/50\n",
      "60000/60000 [==============================] - 4s 65us/step - loss: 0.1053 - val_loss: 0.1035\n",
      "Epoch 50/50\n",
      "60000/60000 [==============================] - 4s 65us/step - loss: 0.1049 - val_loss: 0.1031\n"
     ]
    },
    {
     "data": {
      "text/plain": [
       "<keras.callbacks.History at 0x2090ce66748>"
      ]
     },
     "execution_count": 3,
     "metadata": {},
     "output_type": "execute_result"
    }
   ],
   "source": [
    "# MNIST have already been imported for you and split into X_train and\n",
    "# X_test datasets.\n",
    "\n",
    "# Fit your autoencoder, remember this time X_train is both\n",
    "# your input and output. Use 50 epochs with a batch_size of 256, since our training \n",
    "# set is quite large. Make use of X_test as validation data for your model.\n",
    "\n",
    "autoencoder.fit(X_train,X_train,\n",
    "               epochs = 50,\n",
    "               batch_size = 256,\n",
    "               shuffle=True,\n",
    "               validation_data=(X_test,X_test))"
   ]
  },
  {
   "cell_type": "markdown",
   "metadata": {},
   "source": [
    "#### Section 3:"
   ]
  },
  {
   "cell_type": "code",
   "execution_count": 5,
   "metadata": {},
   "outputs": [
    {
     "name": "stdout",
     "output_type": "stream",
     "text": [
      "_________________________________________________________________\n",
      "Layer (type)                 Output Shape              Param #   \n",
      "=================================================================\n",
      "input_2 (InputLayer)         (None, 32)                0         \n",
      "_________________________________________________________________\n",
      "dense_2 (Dense)              (None, 784)               25872     \n",
      "=================================================================\n",
      "Total params: 25,872\n",
      "Trainable params: 25,872\n",
      "Non-trainable params: 0\n",
      "_________________________________________________________________\n"
     ]
    }
   ],
   "source": [
    "# We know want to obtain both our encoded and our decoded images.\n",
    "# And display them, to asses how good our model was.\n",
    "\n",
    "# In order to do so we can proceed by doing the following:\n",
    "\n",
    "# Use our previously built encoder model to obtain the encoded version \n",
    "# of our images.\n",
    "encoded_imgs = encoder.predict(X_test)\n",
    "\n",
    "# We do not have a decoder model to decodify the images we just encoded,\n",
    "# but creating one is simple with the functional API:\n",
    "\n",
    "# 1) Select the last layer from our already trained autoencoder model.\n",
    "# This layer already has the learned weights to decode our images, so it's\n",
    "# quite useful for our task at hand.\n",
    "\n",
    "decoder_layer = autoencoder.layers[-1]\n",
    "\n",
    "# 2) Create and input of shape equal to our encoding_dim.\n",
    "encoded_input = Input(shape=(encoding_dim,))\n",
    "\n",
    "# 3) Build our decoder model\n",
    "decoder = Model(encoded_input,decoder_layer(encoded_input))\n",
    "\n",
    "# Take a look at our decoded model structure\n",
    "decoder.summary()"
   ]
  },
  {
   "cell_type": "code",
   "execution_count": 6,
   "metadata": {},
   "outputs": [],
   "source": [
    "##################################################\n",
    "# Student wouldn't see this code which is used to plot\n",
    "# the results of the model.\n",
    "\n",
    "import matplotlib.pyplot as plt\n",
    "\n",
    "def plot_results(encoded_imgs,decoded_imgs):\n",
    "    n = 10  # how many digits we will display\n",
    "    plt.figure(figsize=(20, 4))\n",
    "    for i in range(n):\n",
    "        # display original\n",
    "        ax = plt.subplot(2, n, i + 1)\n",
    "        plt.imshow(encoded_imgs[i].reshape(28, 28))\n",
    "        plt.gray()\n",
    "        ax.get_xaxis().set_visible(False)\n",
    "        ax.get_yaxis().set_visible(False)\n",
    "\n",
    "        # display reconstruction\n",
    "        ax = plt.subplot(2, n, i + 1 + n)\n",
    "        plt.imshow(decoded_imgs[i].reshape(28, 28))\n",
    "        plt.gray()\n",
    "        ax.get_xaxis().set_visible(False)\n",
    "        ax.get_yaxis().set_visible(False)\n",
    "    plt.show()\n",
    "\n",
    "\n",
    "##################################################\n"
   ]
  },
  {
   "cell_type": "markdown",
   "metadata": {},
   "source": [
    "#### Section 4:"
   ]
  },
  {
   "cell_type": "code",
   "execution_count": 7,
   "metadata": {},
   "outputs": [
    {
     "data": {
      "image/png": "[encoded data removed]",
      "text/plain": [
       "<Figure size 1440x288 with 20 Axes>"
      ]
     },
     "metadata": {
      "needs_background": "light"
     },
     "output_type": "display_data"
    }
   ],
   "source": [
    "# It's time to see if our autoencoder is performing correctly.\n",
    "\n",
    "# Use the encoder model to encode X_test images.\n",
    "encoded_imgs = encoder.predict(X_test)\n",
    "\n",
    "# Use our decoder model to predict the recently encoded images\n",
    "decoded_imgs = decoder.predict(encoded_imgs)\n",
    "\n",
    "# Call plot_results() passing the X_test images and decoded_imgs as parameters \n",
    "# and look at the results !\n",
    "plot_results(X_test,decoded_imgs)\n"
   ]
  }
 ],
 "metadata": {
  "kernelspec": {
   "display_name": "Python 3",
   "language": "python",
   "name": "python3"
  },
  "language_info": {
   "codemirror_mode": {
    "name": "ipython",
    "version": 3
   },
   "file_extension": ".py",
   "mimetype": "text/x-python",
   "name": "python",
   "nbconvert_exporter": "python",
   "pygments_lexer": "ipython3",
   "version": "3.6.7"
  }
 },
 "nbformat": 4,
 "nbformat_minor": 2
}
